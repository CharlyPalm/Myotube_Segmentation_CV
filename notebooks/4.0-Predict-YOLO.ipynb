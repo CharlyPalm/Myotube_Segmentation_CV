{
 "cells": [
  {
   "cell_type": "markdown",
   "metadata": {},
   "source": [
    "# Prediction\n",
    "\n",
    "Alejandro Sánchez A01662783 A01662783@tec.mx\n",
    "\n",
    "Carlos Palmieri A01635776 A01635776@tec.mx\n",
    "\n",
    "Cynthia Quijas A01655996 A01655996@tec.mx\n",
    "\n",
    "Dabria Carrillo A01656716 A01656716@tec.mx"
   ]
  },
  {
   "cell_type": "markdown",
   "metadata": {},
   "source": [
    "Código basado en la implementación de Ultralytics YOLOv11 \n",
    "Fuente: https://github.com/ultralytics/yolov11"
   ]
  },
  {
   "cell_type": "code",
   "execution_count": 1,
   "metadata": {},
   "outputs": [
    {
     "name": "stdout",
     "output_type": "stream",
     "text": [
      "['c:\\\\Users\\\\palmi\\\\.conda\\\\envs\\\\YOLOtest\\\\python38.zip', 'c:\\\\Users\\\\palmi\\\\.conda\\\\envs\\\\YOLOtest\\\\DLLs', 'c:\\\\Users\\\\palmi\\\\.conda\\\\envs\\\\YOLOtest\\\\lib', 'c:\\\\Users\\\\palmi\\\\.conda\\\\envs\\\\YOLOtest', '', 'C:\\\\Users\\\\palmi\\\\AppData\\\\Roaming\\\\Python\\\\Python38\\\\site-packages', 'c:\\\\Users\\\\palmi\\\\.conda\\\\envs\\\\YOLOtest\\\\lib\\\\site-packages', 'c:\\\\Users\\\\palmi\\\\.conda\\\\envs\\\\YOLOtest\\\\lib\\\\site-packages\\\\win32', 'c:\\\\Users\\\\palmi\\\\.conda\\\\envs\\\\YOLOtest\\\\lib\\\\site-packages\\\\win32\\\\lib', 'c:\\\\Users\\\\palmi\\\\.conda\\\\envs\\\\YOLOtest\\\\lib\\\\site-packages\\\\Pythonwin', 'c:\\\\Users\\\\palmi\\\\OneDrive\\\\Documentos\\\\TEC\\\\ITD\\\\ConcentracionI.A\\\\bloque2concentracion\\\\myotube_segmentation_cv']\n"
     ]
    }
   ],
   "source": [
    "import sys\n",
    "import os\n",
    "\n",
    "# Add the parent directory (which contains myotube_segmentation_cv) to sys.path\n",
    "sys.path.append(os.path.abspath(os.path.join('..')))  # '..' points to the parent directory\n",
    "\n",
    "# Verify that the path was added\n",
    "print(sys.path)\n"
   ]
  },
  {
   "cell_type": "code",
   "execution_count": 2,
   "metadata": {},
   "outputs": [
    {
     "name": "stdout",
     "output_type": "stream",
     "text": [
      "WARNING  Python>=3.10 is required, but Python==3.8.20 is currently installed \n"
     ]
    }
   ],
   "source": [
    "# Import the prediction function from the module\n",
    "from myotube_segmentation_cv.modeling.predict import predict_image\n",
    "from pathlib import Path\n",
    "\n",
    "# Define the model path (path to your best trained model)\n",
    "MODEL_PATH = Path(r\"C:\\Users\\palmi\\OneDrive\\Documentos\\TEC\\ITD\\ConcentracionI.A\\bloque2concentracion\\myotube_segmentation_cv\\models\\runs\\segment/train2/weights/best.pt\")  # Example model path"
   ]
  },
  {
   "cell_type": "markdown",
   "metadata": {},
   "source": [
    "# Unique image prediction"
   ]
  },
  {
   "cell_type": "code",
   "execution_count": 3,
   "metadata": {},
   "outputs": [
    {
     "name": "stdout",
     "output_type": "stream",
     "text": [
      "\n",
      "image 1/1 C:\\Users\\palmi\\OneDrive\\Documentos\\TEC\\ITD\\ConcentracionI.A\\bloque2concentracion\\myotube_segmentation_cv\\data\\processed\\2024-08-16_00-23-06_A1_03_03__Best.png: 768x1024 7 myotubes, 82.3ms\n",
      "Speed: 8.0ms preprocess, 82.3ms inference, 210.1ms postprocess per image at shape (1, 3, 768, 1024)\n",
      "Results saved to \u001b[1mC:\\Users\\palmi\\OneDrive\\Documentos\\TEC\\ITD\\ConcentracionI.A\\bloque2concentracion\\myotube_segmentation_cv\\models\\runs\\segment\\predict14\u001b[0m\n",
      "1 label saved to C:\\Users\\palmi\\OneDrive\\Documentos\\TEC\\ITD\\ConcentracionI.A\\bloque2concentracion\\myotube_segmentation_cv\\models\\runs\\segment\\predict14\\labels\n"
     ]
    }
   ],
   "source": [
    "# You can pass the image path dynamically\n",
    "IMAGE_PATH = Path(r\"C:\\Users\\palmi\\OneDrive\\Documentos\\TEC\\ITD\\ConcentracionI.A\\bloque2concentracion\\myotube_segmentation_cv\\data\\processed\\2024-08-16_00-23-06_A1_03_03__Best.png\")  # Example image path\n",
    "\n",
    "# Call the prediction function\n",
    "results = predict_image(\n",
    "    model_path=MODEL_PATH,\n",
    "    image_path=IMAGE_PATH,\n",
    "    confidence_threshold=0.10, \n",
    "    iou_threshold=0.01, \n",
    "    device=0, \n",
    "    visualize=False,  # Set True if you want to visualize the results\n",
    "    save_txt=True  # Set True if you want to save the results to text\n",
    ")\n"
   ]
  },
  {
   "cell_type": "markdown",
   "metadata": {},
   "source": [
    "## Multiple Image prediction"
   ]
  },
  {
   "cell_type": "code",
   "execution_count": 4,
   "metadata": {},
   "outputs": [
    {
     "name": "stdout",
     "output_type": "stream",
     "text": [
      "\n",
      "image 1/1 C:\\Users\\palmi\\OneDrive\\Documentos\\TEC\\ITD\\ConcentracionI.A\\bloque2concentracion\\myotube_segmentation_cv\\data\\processed\\2024-08-16_00-23-06_A1_03_03__Best.png: 768x1024 7 myotubes, 66.0ms\n",
      "Speed: 9.0ms preprocess, 66.0ms inference, 6.0ms postprocess per image at shape (1, 3, 768, 1024)\n",
      "Results saved to \u001b[1mC:\\Users\\palmi\\OneDrive\\Documentos\\TEC\\ITD\\ConcentracionI.A\\bloque2concentracion\\myotube_segmentation_cv\\models\\runs\\segment\\predict15\u001b[0m\n",
      "1 label saved to C:\\Users\\palmi\\OneDrive\\Documentos\\TEC\\ITD\\ConcentracionI.A\\bloque2concentracion\\myotube_segmentation_cv\\models\\runs\\segment\\predict15\\labels\n",
      "\n",
      "image 1/1 C:\\Users\\palmi\\OneDrive\\Documentos\\TEC\\ITD\\ConcentracionI.A\\bloque2concentracion\\myotube_segmentation_cv\\data\\processed\\2024-08-16_00-23-06_A2_03_05__Phi8.png: 768x1024 6 myotubes, 31.1ms\n",
      "Speed: 9.0ms preprocess, 31.1ms inference, 3.0ms postprocess per image at shape (1, 3, 768, 1024)\n",
      "Results saved to \u001b[1mC:\\Users\\palmi\\OneDrive\\Documentos\\TEC\\ITD\\ConcentracionI.A\\bloque2concentracion\\myotube_segmentation_cv\\models\\runs\\segment\\predict16\u001b[0m\n",
      "1 label saved to C:\\Users\\palmi\\OneDrive\\Documentos\\TEC\\ITD\\ConcentracionI.A\\bloque2concentracion\\myotube_segmentation_cv\\models\\runs\\segment\\predict16\\labels\n",
      "\n",
      "image 1/1 C:\\Users\\palmi\\OneDrive\\Documentos\\TEC\\ITD\\ConcentracionI.A\\bloque2concentracion\\myotube_segmentation_cv\\data\\processed\\2024-08-16_18-23-17_A2_02_06__DIC8.png: 768x1024 7 myotubes, 32.0ms\n",
      "Speed: 7.0ms preprocess, 32.0ms inference, 3.0ms postprocess per image at shape (1, 3, 768, 1024)\n",
      "Results saved to \u001b[1mC:\\Users\\palmi\\OneDrive\\Documentos\\TEC\\ITD\\ConcentracionI.A\\bloque2concentracion\\myotube_segmentation_cv\\models\\runs\\segment\\predict17\u001b[0m\n",
      "1 label saved to C:\\Users\\palmi\\OneDrive\\Documentos\\TEC\\ITD\\ConcentracionI.A\\bloque2concentracion\\myotube_segmentation_cv\\models\\runs\\segment\\predict17\\labels\n"
     ]
    }
   ],
   "source": [
    "# List of images to process\n",
    "image_paths = [\n",
    "    Path(r\"C:\\Users\\palmi\\OneDrive\\Documentos\\TEC\\ITD\\ConcentracionI.A\\bloque2concentracion\\myotube_segmentation_cv\\data\\processed\\2024-08-16_00-23-06_A1_03_03__Best.png\"),\n",
    "    Path(r\"C:\\Users\\palmi\\OneDrive\\Documentos\\TEC\\ITD\\ConcentracionI.A\\bloque2concentracion\\myotube_segmentation_cv\\data\\processed\\2024-08-16_00-23-06_A2_03_05__Phi8.png\"),\n",
    "    Path(r\"C:\\Users\\palmi\\OneDrive\\Documentos\\TEC\\ITD\\ConcentracionI.A\\bloque2concentracion\\myotube_segmentation_cv\\data\\processed\\2024-08-16_18-23-17_A2_02_06__DIC8.png\"),\n",
    "]\n",
    "\n",
    "# Loop over each image and run prediction\n",
    "for image_path in image_paths:\n",
    "    results = predict_image(\n",
    "        model_path=MODEL_PATH,\n",
    "        image_path=image_path,\n",
    "        confidence_threshold=0.10, \n",
    "        iou_threshold=0.01, \n",
    "        device=0, \n",
    "        visualize=False,  # Set True if you want to visualize the results\n",
    "        save_txt=True  # Set True if you want to save the results to text\n",
    "    )\n",
    "\n"
   ]
  }
 ],
 "metadata": {
  "kernelspec": {
   "display_name": "YOLOtest",
   "language": "python",
   "name": "python3"
  },
  "language_info": {
   "codemirror_mode": {
    "name": "ipython",
    "version": 3
   },
   "file_extension": ".py",
   "mimetype": "text/x-python",
   "name": "python",
   "nbconvert_exporter": "python",
   "pygments_lexer": "ipython3",
   "version": "3.8.20"
  }
 },
 "nbformat": 4,
 "nbformat_minor": 2
}
